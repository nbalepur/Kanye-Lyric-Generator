{
 "cells": [
  {
   "cell_type": "markdown",
   "metadata": {},
   "source": [
    "# Kanye Lyric Generator\n",
    "\n",
    "In this notebook, I take a look at using `Pytorch` for text generation and apply it to the song lyrics of one of my favorite artists, Kanye West\n",
    "\n",
    "*Note: Much of the foundation of this project was taken from [this](https://www.analyticsvidhya.com/blog/2020/08/build-a-natural-language-generation-nlg-system-using-pytorch/) data science article*\n",
    "\n",
    "## Loading the Data\n",
    "\n",
    "We will start by importing our needed libraries:\n",
    "- `torch`: Machine learning algorithm foundation\n",
    "- `torch.nn`: Shortcut for neural network logic\n",
    "- `torch.nn.functional`: Shortcut for neural network algorithms\n",
    "- `numpy`: Library for quick, vectorized operations\n",
    "- `re`: Regex for text processing\n",
    "- `string`: Library for text processing\n",
    "- `random`: Randomized text generation\n",
    "- `language_check`: Corrects our generated sentences gramatically\n",
    "- `better_profanity`: Censors swear words"
   ]
  },
  {
   "cell_type": "code",
   "execution_count": 1,
   "metadata": {},
   "outputs": [],
   "source": [
    "import torch\n",
    "import torch.nn as nn\n",
    "import torch.nn.functional as Functional\n",
    "import numpy as np\n",
    "import re\n",
    "import string\n",
    "import random\n",
    "import language_check as Language\n",
    "from better_profanity import profanity as Profanity"
   ]
  },
  {
   "cell_type": "markdown",
   "metadata": {},
   "source": [
    "Now we must open our data\n",
    "\n",
    "The data we will be using is a collection of Kanye West verses (stored in a file called `kanye_verses.txt`), which can be found on Kaggle [here](https://www.kaggle.com/viccalexander/kanyewestverses)\n",
    "\n",
    "We also do some preprocessing, replacing the double line breaks in the text with single line breaks"
   ]
  },
  {
   "cell_type": "code",
   "execution_count": 2,
   "metadata": {},
   "outputs": [],
   "source": [
    "file = open(\"kanye_verses.txt\", \"r\", encoding = \"utf8\")\n",
    "text = file.read()\n",
    "text = text.replace(\"\\n\\n\", \"\\n\")"
   ]
  },
  {
   "cell_type": "markdown",
   "metadata": {},
   "source": [
    "To modularize the process of cleaning up the text more, we will create a function called `clean_lyric()`, which does the following:\n",
    "- Uses `Regex` to only keep alphabetical characters\n",
    "- Removes the character `'` from the text"
   ]
  },
  {
   "cell_type": "code",
   "execution_count": 3,
   "metadata": {},
   "outputs": [],
   "source": [
    "def clean_lyric(lyric):\n",
    "    return re.sub(\"[^a-z' ]\", \"\", lyric).replace(\"'\", \"\")"
   ]
  },
  {
   "cell_type": "markdown",
   "metadata": {},
   "source": [
    "Now we can create a list of unique lyrics by splitting by the newline character and using `numpy` functions\n",
    "\n",
    "Afterwards, we will call `clean_lyric()` on every element to create a list of `cleaned_lyrics`"
   ]
  },
  {
   "cell_type": "code",
   "execution_count": 4,
   "metadata": {},
   "outputs": [],
   "source": [
    "lyrics = text.lower().split(\"\\n\")\n",
    "lyrics = np.unique(lyrics)[1:].tolist()\n",
    "\n",
    "cleaned_lyrics = [clean_lyric(lyric) for lyric in lyrics]"
   ]
  },
  {
   "cell_type": "markdown",
   "metadata": {},
   "source": [
    "## Data Processing\n",
    "\n",
    "To make generative text, we need to define a sequence size which we can chunk our lyrics into\n",
    "\n",
    "For this notebook, we will set `seq_size` equal to 5"
   ]
  },
  {
   "cell_type": "code",
   "execution_count": 5,
   "metadata": {},
   "outputs": [],
   "source": [
    "seq_size = 5"
   ]
  },
  {
   "cell_type": "markdown",
   "metadata": {},
   "source": [
    "In order to train our model, we need to break up our lyrics such that a group of words, our input, predicts another group of words, our output\n",
    "\n",
    "We'll create the method `create_sequences()` to help us accomplish this, which does the following:\n",
    "- Returns the lyric if the sequence isn't long enough\n",
    "- Otherwise, creates every possible `seq_len` length sequence"
   ]
  },
  {
   "cell_type": "code",
   "execution_count": 6,
   "metadata": {},
   "outputs": [],
   "source": [
    "def create_sequences(lyric, seq_len):\n",
    "    # intialize sequences list\n",
    "    sequences = []\n",
    "    \n",
    "    # returns early if not long enough\n",
    "    if len(lyric.split()) <= seq_len:\n",
    "        return [lyric]\n",
    "    \n",
    "    # adds every possible sequence\n",
    "    for itr in range(seq_len, len(lyric.split())):\n",
    "        curr_seq = lyric.split()[itr - seq_len:itr + 1]\n",
    "        sequences.append(\" \".join(curr_seq))\n",
    "    \n",
    "    # returns the sequences\n",
    "    return sequences"
   ]
  },
  {
   "cell_type": "markdown",
   "metadata": {},
   "source": [
    "We'll iterate through our `cleaned_lyrics` and create every possible sequence, storing it in `raw_sequences`\n",
    "\n",
    "We will then make use of the [`numpy.unique()`](https://numpy.org/doc/stable/reference/generated/numpy.unique.html) function to get a unique set of sequences"
   ]
  },
  {
   "cell_type": "code",
   "execution_count": 7,
   "metadata": {},
   "outputs": [],
   "source": [
    "# obtain every sequence\n",
    "raw_sequences = [create_sequences(lyric, seq_size) for lyric in cleaned_lyrics]\n",
    "\n",
    "# filter to get the unique sequences\n",
    "sequences = np.unique(np.array(sum(raw_sequences, []))).tolist()"
   ]
  },
  {
   "cell_type": "markdown",
   "metadata": {},
   "source": [
    "Computers can only process data as numbers, so we need to find a way to convert our words to numbers\n",
    "\n",
    "To solve this, we will make a simple bag of words model, and index it as the word's position in the array\n",
    "\n",
    "We will store both dictionaries in `word_to_idx` and `idx_to_word`, as well as the total number of words in `vocab_size`"
   ]
  },
  {
   "cell_type": "code",
   "execution_count": 8,
   "metadata": {},
   "outputs": [
    {
     "data": {
      "text/plain": [
       "6141"
      ]
     },
     "execution_count": 8,
     "metadata": {},
     "output_type": "execute_result"
    }
   ],
   "source": [
    "uniq_words = np.unique(np.array(\" \".join(sequences).split(\" \")))\n",
    "uniq_words_idx = np.arange(uniq_words.size)\n",
    "\n",
    "word_to_idx = dict(zip(uniq_words.tolist(), uniq_words_idx.tolist()))\n",
    "idx_to_word = dict(zip(uniq_words_idx.tolist(), uniq_words.tolist()))\n",
    "\n",
    "vocab_size = len(word_to_idx)\n",
    "vocab_size"
   ]
  },
  {
   "cell_type": "markdown",
   "metadata": {},
   "source": [
    "Now we will create arrays of word sequences, called `x_word` and `y_word`\n",
    "\n",
    "We can do this by iterating through every `sequence` and adding the ones that are the appropriate length"
   ]
  },
  {
   "cell_type": "code",
   "execution_count": 9,
   "metadata": {},
   "outputs": [],
   "source": [
    "# intialize the empty lists\n",
    "x_word = []\n",
    "y_word = []\n",
    "\n",
    "# iterate through every sequence\n",
    "for seq in sequences:\n",
    "    \n",
    "    # stop if the sequence isn't long enough\n",
    "    if (len(seq.split()) != seq_size + 1):\n",
    "        continue\n",
    "    \n",
    "    # add the words to the sequences\n",
    "    x_word.append(\" \".join(seq.split()[:-1]))\n",
    "    y_word.append(\" \".join(seq.split()[1:]))"
   ]
  },
  {
   "cell_type": "markdown",
   "metadata": {},
   "source": [
    "As mentioned earlier, computers can only really process numerical data, so we'll create the function `get_seq_idx()` to convert our words"
   ]
  },
  {
   "cell_type": "code",
   "execution_count": 10,
   "metadata": {},
   "outputs": [],
   "source": [
    "def get_seq_idx(seq):\n",
    "    return [word_to_idx[word] for word in seq.split()]"
   ]
  },
  {
   "cell_type": "markdown",
   "metadata": {},
   "source": [
    "Now, we can use this function to convert `x_word` and `y_word` into `x_idx` and `y_idx`"
   ]
  },
  {
   "cell_type": "code",
   "execution_count": 11,
   "metadata": {},
   "outputs": [],
   "source": [
    "x_idx = np.array([get_seq_idx(word) for word in x_word])\n",
    "y_idx = np.array([get_seq_idx(word) for word in y_word])"
   ]
  },
  {
   "cell_type": "markdown",
   "metadata": {},
   "source": [
    "## Training the Model\n",
    "\n",
    "First, we'll declare the following variables that we'll use to create our neural network:\n",
    "- `num_hidden`: Number of nodes in the hidden layer\n",
    "- `num_layers`: Number of layers in the network\n",
    "- `embed_size`: Size of the embedded layer\n",
    "- `drop_prob`: Bernoulli probability for Dropout layer\n",
    "- `lr`: Loss ratio\n",
    "- `num_epochs`: Number of epochs to train the network\n",
    "- `batch_size`: The batch size to train with"
   ]
  },
  {
   "cell_type": "code",
   "execution_count": 12,
   "metadata": {},
   "outputs": [],
   "source": [
    "num_hidden = 256\n",
    "num_layers = 4\n",
    "embed_size = 200\n",
    "drop_prob = 0.3\n",
    "lr = 0.001\n",
    "num_epochs = 20\n",
    "batch_size = 32"
   ]
  },
  {
   "cell_type": "markdown",
   "metadata": {},
   "source": [
    "We'll need a Recurrent Neural Network to train this model, so the obvious choice is a [Long Short-Term Memory](https://en.wikipedia.org/wiki/Long_short-term_memory) model, or `LSTM`\n",
    "\n",
    "To accomplish this, we'll create a module named `LyricLSTM` following the [standard Pytorch documentation](https://pytorch.org/docs/stable/generated/torch.nn.Module.html)\n",
    "\n",
    "This module will have the following three methods:\n",
    "\n",
    "**`__init__(self, num_hidden, num_layers, embed_size, drop_prob, lr)`**\n",
    "\n",
    "This method initializes the variables for the `LSTM`\n",
    "\n",
    "First, it stores the variables `drop_prob`, `num_layers`, `num_hidden`, and `lr`\n",
    "\n",
    "Next, it stores an `Embedding` layer using `vocab_size` and `embed_size`\n",
    "\n",
    "We then stores the `LSTM` layer using the parameter variables, and setting `batch_first` equal to True\n",
    "\n",
    "Afterwards, we define a `Dropout` layer using our `drop_prob`\n",
    "\n",
    "Finally, we store the fully-connected `Linear` layer using `num_hidden` and `vocab_size`\n",
    "\n",
    "<hr />\n",
    "\n",
    "**`forward(self, x, hidden)`**\n",
    "\n",
    "This method forward-propogates the input, `x` through the network\n",
    "\n",
    "First, we embed the `x` input using the `Embedding` layer\n",
    "\n",
    "We then use the `LSTM` layer to obtain the `lstm_output` and `hidden` layer\n",
    "\n",
    "Afterwards, we can pass `lstm_output` through the `Dropout` layer to obtain `dropout_out` torch\n",
    "\n",
    "Finally, we pass `dropout_out` through the fully-connected `Linear` layer, and return this value along with the `hidden` layer\n",
    "\n",
    "<hr />\n",
    "\n",
    "**`init_hidden(self, batch_size)`**\n",
    "\n",
    "This method initializes the `hidden` state of the model\n",
    "\n",
    "We first create a `weight` torch using the parameters of the model\n",
    "\n",
    "We then can create a new `hidden` layer and return its value"
   ]
  },
  {
   "cell_type": "code",
   "execution_count": 13,
   "metadata": {},
   "outputs": [],
   "source": [
    "class LyricLSTM(nn.Module):\n",
    "    \n",
    "    ''' Initialize the network variables '''\n",
    "    def __init__(self, num_hidden, num_layers, embed_size, drop_prob, lr):\n",
    "        # call super() on the class\n",
    "        super().__init__()\n",
    "        \n",
    "        # store the constructor variables\n",
    "        self.drop_prob = drop_prob\n",
    "        self.num_layers = num_layers\n",
    "        self.num_hidden = num_hidden\n",
    "        self.lr = lr\n",
    "        \n",
    "        # define the embedded layer\n",
    "        self.embedded = nn.Embedding(vocab_size, embed_size)\n",
    "\n",
    "        # define the LSTM\n",
    "        self.lstm = nn.LSTM(embed_size, num_hidden, num_layers, dropout = drop_prob, batch_first = True)\n",
    "        \n",
    "        # define a dropout layer\n",
    "        self.dropout = nn.Dropout(drop_prob)\n",
    "        \n",
    "        # define the fully-connected layer\n",
    "        self.fc = nn.Linear(num_hidden, vocab_size)      \n",
    "    \n",
    "    ''' Forward propogate through the network '''\n",
    "    def forward(self, x, hidden):\n",
    "        \n",
    "        ## pass input through embedding layer\n",
    "        embedded = self.embedded(x)     \n",
    "        \n",
    "        # Obtain the outputs and hidden layer from the LSTM layer\n",
    "        lstm_output, hidden = self.lstm(embedded, hidden)\n",
    "        \n",
    "        # pass through a dropout layer and reshape\n",
    "        dropout_out = self.dropout(lstm_output).reshape(-1, self.num_hidden) \n",
    "\n",
    "        ## put \"out\" through the fully-connected layer\n",
    "        out = self.fc(dropout_out)\n",
    "\n",
    "        # return the final output and the hidden state\n",
    "        return out, hidden\n",
    "    \n",
    "    ''' Initialize the hidden state of the network '''\n",
    "    def init_hidden(self, batch_size):\n",
    "        \n",
    "        # Create a weight torch using the parameters of the model\n",
    "        weight = next(self.parameters()).data\n",
    "\n",
    "        # initialize the hidden layer using the weight torch\n",
    "        hidden = (weight.new(self.num_layers, batch_size, self.num_hidden).zero_(),\n",
    "                  weight.new(self.num_layers, batch_size, self.num_hidden).zero_())\n",
    "        \n",
    "        # return the hidden layer\n",
    "        return hidden"
   ]
  },
  {
   "cell_type": "markdown",
   "metadata": {},
   "source": [
    "Now we can initialize the variables we will use for training\n",
    "\n",
    "First, we'll create a variable `model` using the `LyricLSTM()` constructor above\n",
    "\n",
    "The optimizer we will select for backpropogation is the [Adam Algorithm](https://arxiv.org/abs/1412.6980)\n",
    "\n",
    "We will also need a way to evaluate the loss of the function, so we will choose [Cross Entropy Loss](https://towardsdatascience.com/cross-entropy-loss-function-f38c4ec8643e)"
   ]
  },
  {
   "cell_type": "code",
   "execution_count": 14,
   "metadata": {},
   "outputs": [
    {
     "data": {
      "text/plain": [
       "LyricLSTM(\n",
       "  (embedded): Embedding(6141, 200)\n",
       "  (lstm): LSTM(200, 256, num_layers=4, batch_first=True, dropout=0.3)\n",
       "  (dropout): Dropout(p=0.3, inplace=False)\n",
       "  (fc): Linear(in_features=256, out_features=6141, bias=True)\n",
       ")"
      ]
     },
     "execution_count": 14,
     "metadata": {},
     "output_type": "execute_result"
    }
   ],
   "source": [
    "# create the LSTM model\n",
    "model = LyricLSTM(num_hidden, num_layers, embed_size, drop_prob, lr)\n",
    "\n",
    "# selecting an optimizer\n",
    "optimizer = torch.optim.Adam(model.parameters(), lr = lr)\n",
    "\n",
    "# selecting a loss function\n",
    "loss_func = nn.CrossEntropyLoss()\n",
    "\n",
    "# overview of the model\n",
    "model.train()"
   ]
  },
  {
   "cell_type": "markdown",
   "metadata": {},
   "source": [
    "Before we can begin training, we need a function to obtain the next batch for training\n",
    "\n",
    "The method `get_next_batch()` allows us to do this by doing the following:\n",
    "- Iterates from `batch_size` to the end of `x`, increasing by `batch_size`\n",
    "- Indexes `x` and `y` with `batch_size` to obtain `batch_x` and `batch_y`\n",
    "- Yield `batch_x` and `batch_y`"
   ]
  },
  {
   "cell_type": "code",
   "execution_count": 15,
   "metadata": {},
   "outputs": [],
   "source": [
    "def get_next_batch(x, y, batch_size):\n",
    "    \n",
    "    # iterate until the end of x\n",
    "    for itr in range(batch_size, x.shape[0], batch_size):\n",
    "        \n",
    "        # obtain the indexed x and y values\n",
    "        batch_x = x[itr - batch_size:itr, :]\n",
    "        batch_y = y[itr - batch_size:itr, :]\n",
    "        \n",
    "        # yield these values\n",
    "        yield batch_x, batch_y"
   ]
  },
  {
   "cell_type": "markdown",
   "metadata": {},
   "source": [
    "Finally, we can train the model by doing the following each `epoch`:\n",
    "- Initialize the `hidden_layer`\n",
    "- Iterate through `x` and `y` int the next batch\n",
    "- Convert the `inputs` and `act` arrays to torches\n",
    "- Reformat the `hidden_layer` into a tuple\n",
    "- Obtain the zero-accumulated gradient from the model\n",
    "- Use `forward()` to calculate the output of the model\n",
    "- Use `loss_func()` to obtain the `loss` of the model\n",
    "- Update the weights accordingly"
   ]
  },
  {
   "cell_type": "code",
   "execution_count": 16,
   "metadata": {},
   "outputs": [],
   "source": [
    "for epoch in range(num_epochs):\n",
    "\n",
    "    # initialize hidden state\n",
    "    hidden_layer = model.init_hidden(batch_size)\n",
    "        \n",
    "    for x, y in get_next_batch(x_idx, y_idx, batch_size):\n",
    "            \n",
    "        # convert numpy arrays to PyTorch arrays\n",
    "        inputs = torch.from_numpy(x).type(torch.LongTensor)\n",
    "        act = torch.from_numpy(y).type(torch.LongTensor)\n",
    "\n",
    "        # reformat the hidden layer\n",
    "        hidden_layer = tuple([layer.data for layer in hidden_layer])\n",
    "\n",
    "        # obtain the zero-accumulated gradients from the model\n",
    "        model.zero_grad()\n",
    "            \n",
    "        # get the output from the model\n",
    "        output, hidden = model(inputs, hidden_layer)\n",
    "            \n",
    "        # calculate the loss from this prediction\n",
    "        loss = loss_func(output, act.view(-1))\n",
    "\n",
    "        # back-propagate to update the model\n",
    "        loss.backward()\n",
    "\n",
    "        # prevent exploding gradient problem\n",
    "        nn.utils.clip_grad_norm_(model.parameters(), 1)\n",
    "\n",
    "        # update weigths using the optimizer\n",
    "        optimizer.step()           "
   ]
  },
  {
   "cell_type": "markdown",
   "metadata": {},
   "source": [
    "## Generating Text\n",
    "\n",
    "Now that our model is trained, we can start generating text!\n",
    "\n",
    "First, we'll create a function called `predict()` which uses the network to make predictions by doing the following:\n",
    "- Creates torch `inputs` from `x`\n",
    "- Reformat the `hidden_layer` into the tuple `hidden`\n",
    "- Obtain the output of the `model` using `forward()`\n",
    "- Calculate the probabilities using [`softmax`](https://en.wikipedia.org/wiki/Softmax_function)\n",
    "- Use `argsort()` to obtain the top 3 indexes\n",
    "- Randomly choose an index and return the corresponding word"
   ]
  },
  {
   "cell_type": "code",
   "execution_count": 17,
   "metadata": {},
   "outputs": [],
   "source": [
    "def predict(model, tkn, hidden_layer):\n",
    "         \n",
    "    # create torch inputs\n",
    "    x = np.array([[word_to_idx[tkn]]])\n",
    "    inputs = torch.from_numpy(x).type(torch.LongTensor)\n",
    "\n",
    "    # detach hidden state from history\n",
    "    hidden = tuple([layer.data for layer in hidden_layer])\n",
    "\n",
    "    # get the output of the model\n",
    "    out, hidden = model(inputs, hidden)\n",
    "\n",
    "    # get the token probabilities and reshape\n",
    "    prob = Functional.softmax(out, dim=1).data.numpy()\n",
    "    prob = prob.reshape(prob.shape[1],)\n",
    "\n",
    "    # get indices of top 3 values\n",
    "    top_tokens = prob.argsort()[-3:][::-1]\n",
    "    \n",
    "    # randomly select one of the three indices\n",
    "    selected_index = top_tokens[random.sample([0,1,2],1)[0]]\n",
    "\n",
    "    # return word and the hidden state\n",
    "    return idx_to_word[selected_index], hidden"
   ]
  },
  {
   "cell_type": "markdown",
   "metadata": {},
   "source": [
    "Next, we need the function `generate()` to generate text, which does the following:\n",
    "\n",
    "- Creates an initial `hidden` layer\n",
    "- Iterates through the given tokens and predicts the next `tokens`\n",
    "- Iterates once more to predict the subsequent `tokens`\n",
    "- Returns a joined string using the list of `token`"
   ]
  },
  {
   "cell_type": "code",
   "execution_count": 18,
   "metadata": {},
   "outputs": [],
   "source": [
    "def generate(model, num_words, start_text):\n",
    "    \n",
    "    # baseline model eval\n",
    "    model.eval()\n",
    "    \n",
    "    # create the initial hidden layer of batch size 1\n",
    "    hidden = model.init_hidden(1)\n",
    "    \n",
    "    # convert the starting text into tokens\n",
    "    tokens = start_text.split()\n",
    "    \n",
    "    # iterate through and predict the next token\n",
    "    for token in start_text.split():\n",
    "        curr_token, hidden = predict(model, token, hidden)\n",
    "    \n",
    "    # add the token\n",
    "    tokens.append(curr_token)\n",
    "    \n",
    "    # predict the subsequent tokens\n",
    "    for token_num in range(num_words - 1):\n",
    "        token, hidden = predict(model, tokens[-1], hidden)\n",
    "        tokens.append(token)\n",
    "        \n",
    "    # return the formatted string\n",
    "    return \" \".join(tokens)"
   ]
  },
  {
   "cell_type": "markdown",
   "metadata": {},
   "source": [
    "Some of the sentences may be gramatically incorrect, and also may contain profanity\n",
    "\n",
    "To fix this, we'll use the [`language-check`](https://pypi.org/project/language-check/) and [`better-profanity`](https://pypi.org/project/better-profanity/) packages\n",
    "\n",
    "First, we'll need to load in the tools needed to do this"
   ]
  },
  {
   "cell_type": "code",
   "execution_count": 19,
   "metadata": {},
   "outputs": [],
   "source": [
    "# load the swear words to censor\n",
    "Profanity.load_censor_words()\n",
    "\n",
    "# create a tool for language checking\n",
    "lang_tool = Language.LanguageTool('en-US')"
   ]
  },
  {
   "cell_type": "markdown",
   "metadata": {},
   "source": [
    "Finally, we'll create one last method, `get_lyric()`, which combines everything we have done as follows:\n",
    "- generates the text using `generate()`\n",
    "- finds errors using `lang_tool`\n",
    "- applies the suggested changes from `errors`, creating `corrected_text`\n",
    "- censors any words if needed"
   ]
  },
  {
   "cell_type": "code",
   "execution_count": 20,
   "metadata": {},
   "outputs": [],
   "source": [
    "def get_lyric(start_text, censor, num_words):\n",
    "    \n",
    "    # generate the text\n",
    "    generated_text = generate(model, num_words, start_text.lower())\n",
    "    \n",
    "    # find all grammatial errors\n",
    "    errors = lang_tool.check(generated_text)\n",
    "    \n",
    "    # create the corrected text\n",
    "    corrected_text = Language.correct(generated_text, errors)\n",
    "    \n",
    "    # censors the word if necessary\n",
    "    return Profanity.censor(corrected_text) if censor else corrected_text"
   ]
  },
  {
   "cell_type": "markdown",
   "metadata": {},
   "source": [
    "Now, we will test our program below!"
   ]
  },
  {
   "cell_type": "code",
   "execution_count": 26,
   "metadata": {},
   "outputs": [
    {
     "data": {
      "text/plain": [
       "\"Come to say yo y'all ain't gotta take a career up then\""
      ]
     },
     "execution_count": 26,
     "metadata": {},
     "output_type": "execute_result"
    }
   ],
   "source": [
    "get_lyric(\"Come to\", False, 10)"
   ]
  },
  {
   "cell_type": "code",
   "execution_count": 37,
   "metadata": {},
   "outputs": [
    {
     "data": {
      "text/plain": [
       "'Kanye west is a couple of shoes I picked your own star'"
      ]
     },
     "execution_count": 37,
     "metadata": {},
     "output_type": "execute_result"
    }
   ],
   "source": [
    "get_lyric(\"Kanye west\", True, 10)"
   ]
  },
  {
   "cell_type": "code",
   "execution_count": 25,
   "metadata": {},
   "outputs": [
    {
     "data": {
      "text/plain": [
       "'I hate you on your blood I was train to'"
      ]
     },
     "execution_count": 25,
     "metadata": {},
     "output_type": "execute_result"
    }
   ],
   "source": [
    "get_lyric(\"I hate you\", False, 7)"
   ]
  }
 ],
 "metadata": {
  "kernelspec": {
   "display_name": "Python 3",
   "language": "python",
   "name": "python3"
  },
  "language_info": {
   "codemirror_mode": {
    "name": "ipython",
    "version": 3
   },
   "file_extension": ".py",
   "mimetype": "text/x-python",
   "name": "python",
   "nbconvert_exporter": "python",
   "pygments_lexer": "ipython3",
   "version": "3.9.1"
  }
 },
 "nbformat": 4,
 "nbformat_minor": 4
}
