{
 "cells": [
  {
   "cell_type": "code",
   "execution_count": 1,
   "metadata": {},
   "outputs": [],
   "source": [
    "import re\n",
    "import numpy as np\n",
    "import string"
   ]
  },
  {
   "cell_type": "code",
   "execution_count": 2,
   "metadata": {},
   "outputs": [],
   "source": [
    "file = open(\"kanye_verses.txt\", \"r\", encoding = \"utf8\")\n",
    "text = file.read()\n",
    "text = text.replace(\"\\n\\n\", \"\\n\")"
   ]
  },
  {
   "cell_type": "code",
   "execution_count": 3,
   "metadata": {},
   "outputs": [],
   "source": [
    "def clean_lyric(txt):\n",
    "    return re.sub(\"[^a-z' ]\", \"\", txt)"
   ]
  },
  {
   "cell_type": "code",
   "execution_count": 4,
   "metadata": {},
   "outputs": [],
   "source": [
    "lyrics = text.lower().split(\"\\n\")\n",
    "lyrics = np.unique(lyrics)[1:].tolist()\n",
    "cleaned_lyrics = [clean_lyric(lyric) for lyric in lyrics]"
   ]
  },
  {
   "cell_type": "code",
   "execution_count": 5,
   "metadata": {},
   "outputs": [],
   "source": [
    "def create_sequences(lyric, seq_len):\n",
    "    sequences = []    \n",
    "    if len(lyric.split()) <= seq_len:\n",
    "        return [lyric]\n",
    "    \n",
    "    for itr in range(seq_len, len(lyric.split())):\n",
    "        curr_seq = lyric.split()[itr - seq_len:itr + 1]\n",
    "        sequences.append(\" \".join(curr_seq))\n",
    "    return sequences"
   ]
  },
  {
   "cell_type": "code",
   "execution_count": 6,
   "metadata": {},
   "outputs": [],
   "source": [
    "raw_sequences = [create_sequences(cleaned_lyric, 2) for cleaned_lyric in cleaned_lyrics]"
   ]
  },
  {
   "cell_type": "code",
   "execution_count": 7,
   "metadata": {},
   "outputs": [],
   "source": [
    "sequences = np.unique(np.array(sum(raw_sequences, []))).tolist()"
   ]
  },
  {
   "cell_type": "code",
   "execution_count": 24,
   "metadata": {},
   "outputs": [],
   "source": [
    "uniq_words = np.unique(np.array(\" \".join(sequences).split(\" \")))\n",
    "uniq_words_idx = np.arange(uniq_words.size)\n",
    "\n",
    "bag_of_words_dict = zip(uniq_words_idx.tolist(), uniq_words.tolist())"
   ]
  }
 ],
 "metadata": {
  "kernelspec": {
   "display_name": "Python 3",
   "language": "python",
   "name": "python3"
  },
  "language_info": {
   "codemirror_mode": {
    "name": "ipython",
    "version": 3
   },
   "file_extension": ".py",
   "mimetype": "text/x-python",
   "name": "python",
   "nbconvert_exporter": "python",
   "pygments_lexer": "ipython3",
   "version": "3.9.1"
  }
 },
 "nbformat": 4,
 "nbformat_minor": 4
}
